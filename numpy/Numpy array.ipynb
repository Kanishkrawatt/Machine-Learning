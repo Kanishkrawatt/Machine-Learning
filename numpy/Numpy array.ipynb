{
 "cells": [
  {
   "cell_type": "code",
   "execution_count": 2,
   "id": "f0370386",
   "metadata": {},
   "outputs": [],
   "source": [
    "# NUMPY ARRAYS"
   ]
  },
  {
   "cell_type": "code",
   "execution_count": 3,
   "id": "3701cdae",
   "metadata": {},
   "outputs": [],
   "source": [
    "import numpy as np\n",
    "a = np.array([1,2,3,4])"
   ]
  },
  {
   "cell_type": "code",
   "execution_count": 7,
   "id": "bdba0ebb",
   "metadata": {},
   "outputs": [
    {
     "data": {
      "text/plain": [
       "array([ 3.69964218e-236, -3.87960536e+129])"
      ]
     },
     "execution_count": 7,
     "metadata": {},
     "output_type": "execute_result"
    }
   ],
   "source": [
    "np.empty(2)"
   ]
  },
  {
   "cell_type": "code",
   "execution_count": 8,
   "id": "d46f9429",
   "metadata": {},
   "outputs": [
    {
     "data": {
      "text/plain": [
       "array([0, 1, 2, 3])"
      ]
     },
     "execution_count": 8,
     "metadata": {},
     "output_type": "execute_result"
    }
   ],
   "source": [
    "np.arange(4)"
   ]
  },
  {
   "cell_type": "code",
   "execution_count": 9,
   "id": "66f22740",
   "metadata": {},
   "outputs": [
    {
     "data": {
      "text/plain": [
       "array([ 0. ,  2.5,  5. ,  7.5, 10. ])"
      ]
     },
     "execution_count": 9,
     "metadata": {},
     "output_type": "execute_result"
    }
   ],
   "source": [
    "np.linspace(0,10 , num =5)"
   ]
  },
  {
   "cell_type": "code",
   "execution_count": 10,
   "id": "a66d0e4c",
   "metadata": {},
   "outputs": [
    {
     "data": {
      "text/plain": [
       "array([1, 2, 3, 4, 5, 6])"
      ]
     },
     "execution_count": 10,
     "metadata": {},
     "output_type": "execute_result"
    }
   ],
   "source": [
    "np.sort([1,4,2,3,6,5])"
   ]
  },
  {
   "cell_type": "code",
   "execution_count": 11,
   "id": "c0057ecb",
   "metadata": {},
   "outputs": [
    {
     "data": {
      "text/plain": [
       "array([[1, 2],\n",
       "       [3, 4]])"
      ]
     },
     "execution_count": 11,
     "metadata": {},
     "output_type": "execute_result"
    }
   ],
   "source": [
    "a.reshape(2,2)"
   ]
  },
  {
   "cell_type": "code",
   "execution_count": 12,
   "id": "9274244b",
   "metadata": {},
   "outputs": [
    {
     "data": {
      "text/plain": [
       "array([[1, 2, 3, 4],\n",
       "       [5, 6, 7, 8]])"
      ]
     },
     "execution_count": 12,
     "metadata": {},
     "output_type": "execute_result"
    }
   ],
   "source": [
    "# Creating 2D array\n",
    "b = np.array([[1,2,3,4],[5,6,7,8]])\n",
    "b"
   ]
  },
  {
   "cell_type": "code",
   "execution_count": 13,
   "id": "15bc5a58",
   "metadata": {},
   "outputs": [
    {
     "data": {
      "text/plain": [
       "array([[[1, 2, 3, 4],\n",
       "        [5, 6, 7, 8]],\n",
       "\n",
       "       [[1, 2, 3, 4],\n",
       "        [5, 6, 7, 8]]])"
      ]
     },
     "execution_count": 13,
     "metadata": {},
     "output_type": "execute_result"
    }
   ],
   "source": [
    "# Creating 3D array\n",
    "c = np.array([[[1,2,3,4],[5,6,7,8]],[[1,2,3,4],[5,6,7,8]]])\n",
    "c"
   ]
  },
  {
   "cell_type": "markdown",
   "id": "e46681c7",
   "metadata": {},
   "source": [
    "Initial PlaceHolder in Numpy Array"
   ]
  },
  {
   "cell_type": "code",
   "execution_count": null,
   "id": "510dfce3",
   "metadata": {},
   "outputs": [
    {
     "data": {
      "text/plain": [
       "array([0, 0, 0, 0, 0], dtype=int64)"
      ]
     },
     "metadata": {},
     "output_type": "display_data"
    }
   ],
   "source": [
    "np.zeros(5,dtype=\"int64\")"
   ]
  },
  {
   "cell_type": "code",
   "execution_count": 16,
   "id": "9e74ab31",
   "metadata": {},
   "outputs": [
    {
     "data": {
      "text/plain": [
       "array([[1, 1, 1, 1],\n",
       "       [1, 1, 1, 1],\n",
       "       [1, 1, 1, 1],\n",
       "       [1, 1, 1, 1],\n",
       "       [1, 1, 1, 1]])"
      ]
     },
     "execution_count": 16,
     "metadata": {},
     "output_type": "execute_result"
    }
   ],
   "source": [
    "np.ones((5,4),dtype=\"int32\")"
   ]
  },
  {
   "cell_type": "code",
   "execution_count": 17,
   "id": "c5c89b7f",
   "metadata": {},
   "outputs": [
    {
     "data": {
      "text/plain": [
       "array([[0, 0],\n",
       "       [0, 0],\n",
       "       [0, 0],\n",
       "       [0, 0],\n",
       "       [0, 0]])"
      ]
     },
     "execution_count": 17,
     "metadata": {},
     "output_type": "execute_result"
    }
   ],
   "source": [
    "np.zeros((5,2),dtype=int)"
   ]
  },
  {
   "cell_type": "code",
   "execution_count": 18,
   "id": "13998494",
   "metadata": {},
   "outputs": [
    {
     "data": {
      "text/plain": [
       "array([[5, 5],\n",
       "       [5, 5],\n",
       "       [5, 5],\n",
       "       [5, 5],\n",
       "       [5, 5]])"
      ]
     },
     "execution_count": 18,
     "metadata": {},
     "output_type": "execute_result"
    }
   ],
   "source": [
    "np.full((5,2),5)"
   ]
  },
  {
   "cell_type": "code",
   "execution_count": 20,
   "id": "fa50b42c",
   "metadata": {},
   "outputs": [
    {
     "data": {
      "text/plain": [
       "array([[1, 0, 0, 0, 0],\n",
       "       [0, 1, 0, 0, 0],\n",
       "       [0, 0, 1, 0, 0],\n",
       "       [0, 0, 0, 1, 0],\n",
       "       [0, 0, 0, 0, 1]])"
      ]
     },
     "execution_count": 20,
     "metadata": {},
     "output_type": "execute_result"
    }
   ],
   "source": [
    "# Creating Identity matrix\n",
    "np.eye(5,dtype=int)"
   ]
  },
  {
   "cell_type": "code",
   "execution_count": 21,
   "id": "77033dab",
   "metadata": {},
   "outputs": [
    {
     "data": {
      "text/plain": [
       "array([[0.38417546, 0.21698175, 0.51133097],\n",
       "       [0.46272494, 0.73369345, 0.92660321],\n",
       "       [0.64334173, 0.70619217, 0.82270242],\n",
       "       [0.01023682, 0.18205689, 0.62394542],\n",
       "       [0.48394867, 0.43163741, 0.50949512]])"
      ]
     },
     "execution_count": 21,
     "metadata": {},
     "output_type": "execute_result"
    }
   ],
   "source": [
    "# Create a Numpy array with random values\n",
    "np.random.random((5,3))"
   ]
  },
  {
   "cell_type": "code",
   "execution_count": 23,
   "id": "97e490a5",
   "metadata": {},
   "outputs": [
    {
     "data": {
      "text/plain": [
       "array([[6, 4, 3],\n",
       "       [5, 6, 6],\n",
       "       [3, 4, 4]])"
      ]
     },
     "execution_count": 23,
     "metadata": {},
     "output_type": "execute_result"
    }
   ],
   "source": [
    "# Create a Numpy array with random values in a range\n",
    "np.random.randint(0,10,(3,3))"
   ]
  },
  {
   "cell_type": "code",
   "execution_count": 25,
   "id": "55dff10c",
   "metadata": {},
   "outputs": [
    {
     "data": {
      "text/plain": [
       "array([ 0. ,  2.5,  5. ,  7.5, 10. ])"
      ]
     },
     "execution_count": 25,
     "metadata": {},
     "output_type": "execute_result"
    }
   ],
   "source": [
    "# Array with evenly spaced numbers\n",
    "np.linspace(0,10,5)\n"
   ]
  },
  {
   "cell_type": "code",
   "execution_count": 27,
   "id": "79021fb9",
   "metadata": {},
   "outputs": [
    {
     "data": {
      "text/plain": [
       "array([0, 2, 4, 6, 8])"
      ]
     },
     "execution_count": 27,
     "metadata": {},
     "output_type": "execute_result"
    }
   ],
   "source": [
    "# array of evenly spaced numbers over a specified space\n",
    "np.arange(0,10,2)"
   ]
  },
  {
   "cell_type": "code",
   "execution_count": 28,
   "id": "6abd7de1",
   "metadata": {},
   "outputs": [
    {
     "data": {
      "text/plain": [
       "array([1, 2, 3, 4])"
      ]
     },
     "execution_count": 28,
     "metadata": {},
     "output_type": "execute_result"
    }
   ],
   "source": [
    "# convert list to numpy array\n",
    "list = [1,2,3,4]\n",
    "np.array(list)"
   ]
  },
  {
   "cell_type": "code",
   "execution_count": 29,
   "id": "f0d71fc5",
   "metadata": {},
   "outputs": [
    {
     "data": {
      "text/plain": [
       "array([1, 2, 3, 4])"
      ]
     },
     "execution_count": 29,
     "metadata": {},
     "output_type": "execute_result"
    }
   ],
   "source": [
    "# convert tuple to numpy array\n",
    "tuple = (1,2,3,4)\n",
    "np.array(tuple)\n"
   ]
  },
  {
   "cell_type": "markdown",
   "id": "5167e4de",
   "metadata": {},
   "source": [
    "Analysing a Numpy array"
   ]
  },
  {
   "cell_type": "code",
   "execution_count": 31,
   "id": "dc4704d0",
   "metadata": {},
   "outputs": [
    {
     "data": {
      "text/plain": [
       "array([[3, 1, 0, 1, 0],\n",
       "       [1, 2, 5, 3, 4],\n",
       "       [3, 7, 8, 4, 5],\n",
       "       [2, 4, 1, 5, 8],\n",
       "       [1, 8, 6, 9, 0]])"
      ]
     },
     "execution_count": 31,
     "metadata": {},
     "output_type": "execute_result"
    }
   ],
   "source": [
    "c = np.random.randint(0,10,(5,5))\n",
    "c"
   ]
  },
  {
   "cell_type": "code",
   "execution_count": 32,
   "id": "364d1e8e",
   "metadata": {},
   "outputs": [
    {
     "data": {
      "text/plain": [
       "(5, 5)"
      ]
     },
     "execution_count": 32,
     "metadata": {},
     "output_type": "execute_result"
    }
   ],
   "source": [
    "# Shape of array\n",
    "c.shape"
   ]
  },
  {
   "cell_type": "code",
   "execution_count": 33,
   "id": "02585ab2",
   "metadata": {},
   "outputs": [
    {
     "data": {
      "text/plain": [
       "2"
      ]
     },
     "execution_count": 33,
     "metadata": {},
     "output_type": "execute_result"
    }
   ],
   "source": [
    "# Dimension of array\n",
    "c.ndim"
   ]
  },
  {
   "cell_type": "code",
   "execution_count": 34,
   "id": "a6bef868",
   "metadata": {},
   "outputs": [
    {
     "data": {
      "text/plain": [
       "25"
      ]
     },
     "execution_count": 34,
     "metadata": {},
     "output_type": "execute_result"
    }
   ],
   "source": [
    "# Size of array\n",
    "c.size\n"
   ]
  },
  {
   "cell_type": "code",
   "execution_count": 35,
   "id": "1c5b128a",
   "metadata": {},
   "outputs": [
    {
     "data": {
      "text/plain": [
       "dtype('int32')"
      ]
     },
     "execution_count": 35,
     "metadata": {},
     "output_type": "execute_result"
    }
   ],
   "source": [
    "# Data type of array\n",
    "c.dtype"
   ]
  },
  {
   "cell_type": "markdown",
   "id": "7bbe172d",
   "metadata": {},
   "source": [
    "Mathematical operations on a np array"
   ]
  },
  {
   "cell_type": "code",
   "execution_count": 37,
   "id": "6543b859",
   "metadata": {},
   "outputs": [],
   "source": [
    "a = np.random.randint(0,10,(5,5))\n",
    "b = np.random.randint(10,20,(5,5))"
   ]
  },
  {
   "cell_type": "code",
   "execution_count": 39,
   "id": "27a96b3b",
   "metadata": {},
   "outputs": [
    {
     "name": "stdout",
     "output_type": "stream",
     "text": [
      "[[9 7 7 5 2]\n",
      " [9 1 5 7 4]\n",
      " [7 8 3 9 9]\n",
      " [9 4 9 9 7]\n",
      " [2 6 1 8 1]]\n",
      "[[12 17 15 16 15]\n",
      " [12 19 17 19 10]\n",
      " [15 15 17 13 15]\n",
      " [13 16 14 15 13]\n",
      " [12 13 19 12 17]]\n"
     ]
    }
   ],
   "source": [
    "print(a)\n",
    "print(b)"
   ]
  },
  {
   "cell_type": "code",
   "execution_count": 41,
   "id": "4abd492b",
   "metadata": {},
   "outputs": [
    {
     "name": "stdout",
     "output_type": "stream",
     "text": [
      "[[21 24 22 21 17]\n",
      " [21 20 22 26 14]\n",
      " [22 23 20 22 24]\n",
      " [22 20 23 24 20]\n",
      " [14 19 20 20 18]]\n"
     ]
    }
   ],
   "source": [
    "# Addition of two arrays\n",
    "print(a+b)"
   ]
  },
  {
   "cell_type": "code",
   "execution_count": 42,
   "id": "bca88000",
   "metadata": {},
   "outputs": [
    {
     "name": "stdout",
     "output_type": "stream",
     "text": [
      "[[21 24 22 21 17]\n",
      " [21 20 22 26 14]\n",
      " [22 23 20 22 24]\n",
      " [22 20 23 24 20]\n",
      " [14 19 20 20 18]]\n"
     ]
    }
   ],
   "source": [
    "# Addition of two arrays\n",
    "print(np.add(a,b))"
   ]
  },
  {
   "cell_type": "code",
   "execution_count": 43,
   "id": "c371346b",
   "metadata": {},
   "outputs": [
    {
     "name": "stdout",
     "output_type": "stream",
     "text": [
      "[[ -3 -10  -8 -11 -13]\n",
      " [ -3 -18 -12 -12  -6]\n",
      " [ -8  -7 -14  -4  -6]\n",
      " [ -4 -12  -5  -6  -6]\n",
      " [-10  -7 -18  -4 -16]]\n",
      "[[ -3 -10  -8 -11 -13]\n",
      " [ -3 -18 -12 -12  -6]\n",
      " [ -8  -7 -14  -4  -6]\n",
      " [ -4 -12  -5  -6  -6]\n",
      " [-10  -7 -18  -4 -16]]\n"
     ]
    }
   ],
   "source": [
    "# Subtraction of two arrays\n",
    "print(a-b)\n",
    "\n",
    "# Subtraction of two arrays\n",
    "print(np.subtract(a,b))"
   ]
  },
  {
   "cell_type": "code",
   "execution_count": 44,
   "id": "6d7ee0dd",
   "metadata": {},
   "outputs": [
    {
     "name": "stdout",
     "output_type": "stream",
     "text": [
      "[[108 119 105  80  30]\n",
      " [108  19  85 133  40]\n",
      " [105 120  51 117 135]\n",
      " [117  64 126 135  91]\n",
      " [ 24  78  19  96  17]]\n",
      "[[108 119 105  80  30]\n",
      " [108  19  85 133  40]\n",
      " [105 120  51 117 135]\n",
      " [117  64 126 135  91]\n",
      " [ 24  78  19  96  17]]\n"
     ]
    }
   ],
   "source": [
    "# Multiplication of two arrays\n",
    "print(a*b)\n",
    "\n",
    "# Multiplication of two arrays\n",
    "print(np.multiply(a,b))"
   ]
  },
  {
   "cell_type": "code",
   "execution_count": 45,
   "id": "5dacf258",
   "metadata": {},
   "outputs": [
    {
     "name": "stdout",
     "output_type": "stream",
     "text": [
      "[[0.75       0.41176471 0.46666667 0.3125     0.13333333]\n",
      " [0.75       0.05263158 0.29411765 0.36842105 0.4       ]\n",
      " [0.46666667 0.53333333 0.17647059 0.69230769 0.6       ]\n",
      " [0.69230769 0.25       0.64285714 0.6        0.53846154]\n",
      " [0.16666667 0.46153846 0.05263158 0.66666667 0.05882353]]\n",
      "[[0.75       0.41176471 0.46666667 0.3125     0.13333333]\n",
      " [0.75       0.05263158 0.29411765 0.36842105 0.4       ]\n",
      " [0.46666667 0.53333333 0.17647059 0.69230769 0.6       ]\n",
      " [0.69230769 0.25       0.64285714 0.6        0.53846154]\n",
      " [0.16666667 0.46153846 0.05263158 0.66666667 0.05882353]]\n"
     ]
    }
   ],
   "source": [
    "# Division of two arrays\n",
    "print(a/b)\n",
    "\n",
    "# Division of two arrays\n",
    "print(np.divide(a,b))\n"
   ]
  },
  {
   "cell_type": "markdown",
   "id": "39f5eb41",
   "metadata": {},
   "source": [
    "Array Manipulation"
   ]
  },
  {
   "cell_type": "code",
   "execution_count": 48,
   "id": "68e91eff",
   "metadata": {},
   "outputs": [
    {
     "data": {
      "text/plain": [
       "array([[8, 3, 8, 7, 3],\n",
       "       [8, 9, 5, 8, 6],\n",
       "       [5, 6, 0, 4, 7],\n",
       "       [1, 1, 5, 7, 7],\n",
       "       [2, 5, 1, 9, 2]])"
      ]
     },
     "execution_count": 48,
     "metadata": {},
     "output_type": "execute_result"
    }
   ],
   "source": [
    "array = np.random.randint(0,10,(5,5))\n",
    "array\n"
   ]
  },
  {
   "cell_type": "code",
   "execution_count": 49,
   "id": "1588a3a9",
   "metadata": {},
   "outputs": [
    {
     "data": {
      "text/plain": [
       "array([[8, 8, 5, 1, 2],\n",
       "       [3, 9, 6, 1, 5],\n",
       "       [8, 5, 0, 5, 1],\n",
       "       [7, 8, 4, 7, 9],\n",
       "       [3, 6, 7, 7, 2]])"
      ]
     },
     "execution_count": 49,
     "metadata": {},
     "output_type": "execute_result"
    }
   ],
   "source": [
    "# transpose of array\n",
    "array.T"
   ]
  },
  {
   "cell_type": "code",
   "execution_count": 50,
   "id": "8c466bd1",
   "metadata": {},
   "outputs": [
    {
     "data": {
      "text/plain": [
       "array([[8, 8, 5, 1, 2],\n",
       "       [3, 9, 6, 1, 5],\n",
       "       [8, 5, 0, 5, 1],\n",
       "       [7, 8, 4, 7, 9],\n",
       "       [3, 6, 7, 7, 2]])"
      ]
     },
     "execution_count": 50,
     "metadata": {},
     "output_type": "execute_result"
    }
   ],
   "source": [
    "# transpose of array\n",
    "array.transpose()"
   ]
  },
  {
   "cell_type": "code",
   "execution_count": 51,
   "id": "43824f5e",
   "metadata": {},
   "outputs": [
    {
     "data": {
      "text/plain": [
       "array([[8],\n",
       "       [3],\n",
       "       [8],\n",
       "       [7],\n",
       "       [3],\n",
       "       [8],\n",
       "       [9],\n",
       "       [5],\n",
       "       [8],\n",
       "       [6],\n",
       "       [5],\n",
       "       [6],\n",
       "       [0],\n",
       "       [4],\n",
       "       [7],\n",
       "       [1],\n",
       "       [1],\n",
       "       [5],\n",
       "       [7],\n",
       "       [7],\n",
       "       [2],\n",
       "       [5],\n",
       "       [1],\n",
       "       [9],\n",
       "       [2]])"
      ]
     },
     "execution_count": 51,
     "metadata": {},
     "output_type": "execute_result"
    }
   ],
   "source": [
    "# reshape of array\n",
    "array.reshape(25,1)"
   ]
  }
 ],
 "metadata": {
  "kernelspec": {
   "display_name": "Python 3.10.2 64-bit",
   "language": "python",
   "name": "python3"
  },
  "language_info": {
   "codemirror_mode": {
    "name": "ipython",
    "version": 3
   },
   "file_extension": ".py",
   "mimetype": "text/x-python",
   "name": "python",
   "nbconvert_exporter": "python",
   "pygments_lexer": "ipython3",
   "version": "3.10.2"
  },
  "vscode": {
   "interpreter": {
    "hash": "eeb10d17b3756d073ffb5f4d3818e34351524a6d440d7523aa8639b2cdd885e7"
   }
  }
 },
 "nbformat": 4,
 "nbformat_minor": 5
}
